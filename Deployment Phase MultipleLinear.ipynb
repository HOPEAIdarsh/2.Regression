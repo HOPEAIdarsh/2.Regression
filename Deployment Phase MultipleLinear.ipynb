{
 "cells": [
  {
   "cell_type": "code",
   "execution_count": 4,
   "id": "b29182ed-fed9-43a2-a68d-27e8562c3748",
   "metadata": {},
   "outputs": [],
   "source": [
    "import pickle"
   ]
  },
  {
   "cell_type": "code",
   "execution_count": 5,
   "id": "1ca4bc21-dc3b-4a21-b84f-87a1eaa9d455",
   "metadata": {},
   "outputs": [
    {
     "name": "stderr",
     "output_type": "stream",
     "text": [
      "C:\\Users\\vgrex\\anaconda3\\New folder\\Lib\\site-packages\\sklearn\\base.py:493: UserWarning: X does not have valid feature names, but LinearRegression was fitted with feature names\n",
      "  warnings.warn(\n"
     ]
    }
   ],
   "source": [
    "loaded_model = pickle.load(open(\"finalized_model_Multilinear.sav\",\"rb\"))\n",
    "result = loaded_model.predict([[61\t,29.070\t,0,0,1]])\n"
   ]
  },
  {
   "cell_type": "code",
   "execution_count": 6,
   "id": "09e1106e-7ea2-4407-ad55-414dce769041",
   "metadata": {},
   "outputs": [
    {
     "data": {
      "text/plain": [
       "array([[36420.47868696]])"
      ]
     },
     "execution_count": 6,
     "metadata": {},
     "output_type": "execute_result"
    }
   ],
   "source": [
    "result"
   ]
  },
  {
   "cell_type": "code",
   "execution_count": null,
   "id": "4b745a45-9d8e-47c7-b688-50990ad0a287",
   "metadata": {},
   "outputs": [],
   "source": []
  }
 ],
 "metadata": {
  "kernelspec": {
   "display_name": "Python 3 (ipykernel)",
   "language": "python",
   "name": "python3"
  },
  "language_info": {
   "codemirror_mode": {
    "name": "ipython",
    "version": 3
   },
   "file_extension": ".py",
   "mimetype": "text/x-python",
   "name": "python",
   "nbconvert_exporter": "python",
   "pygments_lexer": "ipython3",
   "version": "3.11.5"
  }
 },
 "nbformat": 4,
 "nbformat_minor": 5
}
